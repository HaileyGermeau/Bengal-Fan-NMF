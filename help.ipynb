{
 "cells": [
  {
   "cell_type": "code",
   "execution_count": null,
   "metadata": {},
   "outputs": [],
   "source": [
    "import numpy as np\n",
    "import scipy as sp\n",
    "import scipy.signal as sig\n",
    "import altair as alt\n",
    "import pandas as pd\n",
    "from pathlib import Path  # pathlib is seriously awesome!\n",
    "import sys\n",
    "import sklearn.decomposition as sld"
   ]
  },
  {
   "cell_type": "code",
   "execution_count": null,
   "metadata": {},
   "outputs": [],
   "source": [
    "DRS_file=pd.read_csv('All_RSC_Data.csv')\n",
    "rs_file=pd.ExcelFile('2023-07-14_random_sample.xlsx')\n",
    "#rs stands for random sample\n",
    "rs_sheet_info=pd.read_excel(rs_file,'samples-354-U1449_U1450_U1451_U')\n",
    "rs_sheet_lith=pd.read_excel(rs_file,'random_sample')\n",
    "#rs_sheet = the specific sheet using to merge\n",
    "MiddleDepth=(rs_sheet_info['Top depth CSF-A (m)']+rs_sheet_info['Bottom depth CSF-A (m)'])/2\n",
    "rs_sheet_info.insert(11,'depth-m',MiddleDepth)\n",
    "#calculating middle depth from top and bottom depth of core section and inserting values into sheet as new column\n",
    "DRS_data=pd.merge(rs_sheet_info,DRS_file,on=['Site','Hole','depth-m'])\n",
    "DRS_data=pd.merge(DRS_data,rs_sheet_lith,left_on=['ID'],right_on=['name'],how='left')\n",
    "DRS_data.to_csv('DRS_data.csv',index=False)"
   ]
  },
  {
   "cell_type": "code",
   "execution_count": null,
   "metadata": {},
   "outputs": [],
   "source": [
    "raw_data=pd.read_csv('DRS_data.csv') # <--Replace the folder and file names with the merge results csv file \n",
    "\n",
    "coercivity=pd.read_csv('2023-09-29_irm_gradient.csv')\n",
    "coercivity.drop(coercivity[coercivity['max_d2']>2000].index, inplace=True)\n",
    "coercivity['depth-m']=coercivity['depth-m']-1+0.01\n",
    "coercivity['site']=coercivity.site+coercivity.hole\n",
    "coercivity=coercivity.drop('hole', axis=1)\n",
    "\n",
    "hysteresis=pd.read_csv('2023-09-29_hysteresis_parameters_by_lithology.csv')\n",
    "hysteresis['depth-m']=hysteresis['top depth csf-a (m)']+0.01\n",
    "hysteresis['site']=hysteresis.site+hysteresis.hole\n",
    "hysteresis=hysteresis.drop('hole', axis=1)"
   ]
  }
 ],
 "metadata": {
  "language_info": {
   "name": "python"
  },
  "orig_nbformat": 4
 },
 "nbformat": 4,
 "nbformat_minor": 2
}
