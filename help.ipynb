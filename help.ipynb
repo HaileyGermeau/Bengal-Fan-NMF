{
 "cells": [
  {
   "cell_type": "code",
   "execution_count": null,
   "metadata": {},
   "outputs": [],
   "source": [
    "import numpy as np\n",
    "import scipy as sp\n",
    "import scipy.signal as sig\n",
    "import altair as alt\n",
    "import pandas as pd\n",
    "from pathlib import Path  # pathlib is seriously awesome!\n",
    "import sys\n",
    "import sklearn.decomposition as sld"
   ]
  },
  {
   "cell_type": "code",
   "execution_count": null,
   "metadata": {},
   "outputs": [],
   "source": [
    "DRS_file=pd.read_csv('All_RSC_Data.csv')\n",
    "rs_file=pd.ExcelFile('2023-07-14_random_sample.xlsx')\n",
    "#rs stands for random sample\n",
    "rs_sheet_info=pd.read_excel(rs_file,'samples-354-U1449_U1450_U1451_U')\n",
    "rs_sheet_lith=pd.read_excel(rs_file,'random_sample')\n",
    "#rs_sheet = the specific sheet using to merge\n",
    "MiddleDepth=(rs_sheet_info['Top depth CSF-A (m)']+rs_sheet_info['Bottom depth CSF-A (m)'])/2\n",
    "rs_sheet_info.insert(11,'depth-m',MiddleDepth)\n",
    "#calculating middle depth from top and bottom depth of core section and inserting values into sheet as new column\n",
    "DRS_data=pd.merge(rs_sheet_info,DRS_file,on=['Site','Hole','depth-m'])\n",
    "DRS_data=pd.merge(DRS_data,rs_sheet_lith,left_on=['ID'],right_on=['name'],how='left')\n",
    "DRS_data.to_csv('DRS_data.csv',index=False)"
   ]
  },
  {
   "cell_type": "code",
   "execution_count": null,
   "metadata": {},
   "outputs": [],
   "source": [
    "raw_data=pd.read_csv('DRS_data.csv') # <--Replace the folder and file names with the merge results csv file \n",
    "\n",
    "coercivity=pd.read_csv('2023-09-29_irm_gradient.csv')\n",
    "coercivity.drop(coercivity[coercivity['max_d2']>2000].index, inplace=True)\n",
    "coercivity['depth-m']=coercivity['depth-m']-1+0.01\n",
    "coercivity['site']=coercivity.site+coercivity.hole\n",
    "coercivity=coercivity.drop('hole', axis=1)\n",
    "\n",
    "hysteresis=pd.read_csv('2023-09-29_hysteresis_parameters_by_lithology.csv')\n",
    "hysteresis['depth-m']=hysteresis['top depth csf-a (m)']+0.01\n",
    "hysteresis['site']=hysteresis.site+hysteresis.hole\n",
    "hysteresis=hysteresis.drop('hole', axis=1)"
   ]
  },
  {
   "cell_type": "code",
   "execution_count": null,
   "metadata": {},
   "outputs": [],
   "source": [
    "v=raw_data.columns.values"
   ]
  },
  {
   "cell_type": "code",
   "execution_count": null,
   "metadata": {},
   "outputs": [],
   "source": [
    "raw_data['site_hole']=raw_data.Site+raw_data.Hole\n",
    "print(raw_data.site_hole.unique())\n",
    "site_holes=raw_data.site_hole.unique()\n",
    "first_derivatives=dict(zip(raw_data.site_hole.unique(),np.zeros(raw_data.site_hole.unique().shape)))\n",
    "km_first_derivatives=dict(zip(raw_data.site_hole.unique(),np.zeros(raw_data.site_hole.unique().shape)))"
   ]
  },
  {
   "cell_type": "code",
   "execution_count": null,
   "metadata": {},
   "outputs": [],
   "source": [
    "def smooth(x,window_len=11,window='hanning'):\n",
    "    \"\"\"smooth the data using a window with requested size.\n",
    "    \n",
    "    This method is based on the convolution of a scaled window with the signal.\n",
    "    The signal is prepared by introducing reflected copies of the signal \n",
    "    (with the window size) in both ends so that transient parts are minimized\n",
    "    in the begining and end part of the output signal.\n",
    "    \n",
    "    input:\n",
    "        x: the input signal \n",
    "        window_len: the dimension of the smoothing window; should be an odd integer\n",
    "        window: the type of window from 'flat', 'hanning', 'hamming', 'bartlett', 'blackman'\n",
    "            flat window will produce a moving average smoothing.\n",
    "\n",
    "    output:\n",
    "        the smoothed signal\n",
    "        \n",
    "    example:\n",
    "\n",
    "    t=linspace(-2,2,0.1)\n",
    "    x=sin(t)+randn(len(t))*0.1\n",
    "    y=smooth(x)\n",
    "    \n",
    "    see also: \n",
    "    \n",
    "    numpy.hanning, numpy.hamming, numpy.bartlett, numpy.blackman, numpy.convolve\n",
    "    scipy.signal.lfilter\n",
    " \n",
    "    TODO: the window parameter could be the window itself if an array instead of a string\n",
    "    NOTE: length(output) != length(input), to correct this: return y[(window_len/2-1):-(window_len/2)] instead of just y.\n",
    "    \"\"\"\n",
    "\n",
    "    if x.ndim != 1:\n",
    "        raise (ValueError, \"smooth only accepts 1 dimension arrays.\")\n",
    "\n",
    "    if x.size < window_len:\n",
    "        raise (ValueError, \"Input vector needs to be bigger than window size.\")\n",
    "\n",
    "\n",
    "    if window_len<3:\n",
    "        return x\n",
    "\n",
    "\n",
    "    if not window in ['flat', 'hanning', 'hamming', 'bartlett', 'blackman']:\n",
    "        raise (ValueError, \"Window is on of 'flat', 'hanning', 'hamming', 'bartlett', 'blackman'\")\n",
    "\n",
    "\n",
    "    s=np.r_[x[window_len-1:0:-1],x,x[-2:-window_len-1:-1]]\n",
    "    if window == 'flat': #moving average\n",
    "        w=np.ones(window_len,'d')\n",
    "    else:\n",
    "        w=eval('np.'+window+'(window_len)')\n",
    "\n",
    "    y=np.convolve(w/w.sum(),s,mode='valid')\n",
    "    return y\n",
    "\n",
    "def first_derivative_smooth(reflectance,wavelength,wl=5,filter='flat'):\n",
    "    first=int((wl-1)/2)\n",
    "    smoothed_reflectance = smooth(reflectance,wl,filter)[first:-first]\n",
    "    return pd.Series(data=np.gradient(smoothed_reflectance,wavelength),index=wavelength)\n",
    "\n",
    "def first_derivative(reflectance,wavelength):\n",
    "    return pd.Series(data=np.gradient(reflectance,wavelength),index=wavelength)"
   ]
  }
 ],
 "metadata": {
  "language_info": {
   "name": "python"
  },
  "orig_nbformat": 4
 },
 "nbformat": 4,
 "nbformat_minor": 2
}
